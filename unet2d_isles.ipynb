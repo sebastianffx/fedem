{
 "cells": [
  {
   "cell_type": "code",
   "execution_count": 1,
   "id": "0ee442b4",
   "metadata": {},
   "outputs": [],
   "source": [
    "import torch\n",
    "import monai\n",
    "import numpy as np\n",
    "import nibabel as nib\n",
    "from glob import glob\n",
    "\n",
    "from monai.transforms import (\n",
    "    Activations,\n",
    "    AsChannelFirstD,\n",
    "    AddChannel,\n",
    "    AsDiscrete,\n",
    "    Compose,\n",
    "    LoadImage,\n",
    "    RandRotate90,\n",
    "    RandSpatialCrop,\n",
    "    ScaleIntensity,\n",
    "    EnsureType,\n",
    "    Resized\n",
    ")\n",
    "from monai.data import (\n",
    "    ArrayDataset, GridPatchDataset, create_test_image_3d, PatchIter) #Aparently this allow to read direcly a set of niftis\n",
    "from monai.utils import first\n",
    "from matplotlib import pyplot as plt\n",
    "from monai.metrics import DiceMetric\n",
    "from torch.utils.tensorboard import SummaryWriter\n"
   ]
  },
  {
   "cell_type": "code",
   "execution_count": 2,
   "id": "478abea0",
   "metadata": {
    "scrolled": false
   },
   "outputs": [
    {
     "data": {
      "text/plain": [
       "(94, 94, 94)"
      ]
     },
     "execution_count": 2,
     "metadata": {},
     "output_type": "execute_result"
    }
   ],
   "source": [
    "#loading volume paths\n",
    "LOCATION = 'scan' #laptop\n",
    "if LOCATION == 'scan':\n",
    "    isles_data_root = '/str/data/ASAP/ISLES2018_Training/TRAINING/'\n",
    "if LOCATION == 'laptop':\n",
    "    isles_data_root = '/media/ASAP/ISLES2018_Training/TRAINING/'\n",
    "\n",
    "cbf_paths = sorted(glob(isles_data_root+'/**/*CBF*/*.nii'))\n",
    "tmax_paths = sorted(glob(isles_data_root+'/**/*Tmax*/*.nii'))\n",
    "lbl_paths = sorted(glob(isles_data_root+'*/*OT*/*nii'))\n",
    "\n",
    "len(cbf_paths), len(tmax_paths), len(lbl_paths)"
   ]
  },
  {
   "cell_type": "code",
   "execution_count": 3,
   "id": "7f37a38e",
   "metadata": {},
   "outputs": [],
   "source": [
    "#creating the dataloader for 10 ISLES volumes using the T_max and the CBF\n",
    "#For cbf we are windowing 1-1024\n",
    "#For tmax we'll window 0-60\n",
    "imtrans = Compose(\n",
    "    [   LoadImage(image_only=True),\n",
    "        ScaleIntensity(minv=0.0, maxv=1200),\n",
    "        AddChannel(),\n",
    "        RandSpatialCrop((224, 224,1), random_size=False),\n",
    "        EnsureType(),\n",
    "        #Resized\n",
    "    ]\n",
    ")\n",
    "\n",
    "segtrans = Compose(\n",
    "    [   LoadImage(image_only=True),\n",
    "        AddChannel(),\n",
    "        RandSpatialCrop((224, 224,1), random_size=False),\n",
    "        EnsureType(),\n",
    "        #Resized\n",
    "    ]\n",
    ")\n"
   ]
  },
  {
   "cell_type": "code",
   "execution_count": 4,
   "id": "860c7654",
   "metadata": {},
   "outputs": [
    {
     "name": "stdout",
     "output_type": "stream",
     "text": [
      "torch.Size([1, 1, 224, 224, 1]) torch.Size([1, 1, 224, 224, 1])\n",
      "(array([49671,     0,     0,     0,     0,     0,     0,     0,     0,\n",
      "         505]), array([0. , 0.1, 0.2, 0.3, 0.4, 0.5, 0.6, 0.7, 0.8, 0.9, 1. ],\n",
      "      dtype=float32))\n",
      "tensor(528.8104)\n"
     ]
    }
   ],
   "source": [
    "ds      = ArrayDataset(cbf_paths, imtrans, lbl_paths, segtrans)\n",
    "loader = torch.utils.data.DataLoader(\n",
    "    ds, batch_size=1, num_workers=1, pin_memory=torch.cuda.is_available()\n",
    ")\n",
    "im, seg = first(loader)\n",
    "print(im.shape, seg.shape)\n",
    "print(np.histogram(seg[0,0,:,:,0]))\n",
    "print(im.max())"
   ]
  },
  {
   "cell_type": "code",
   "execution_count": 5,
   "id": "c95d89a7",
   "metadata": {},
   "outputs": [
    {
     "data": {
      "text/plain": [
       "<matplotlib.image.AxesImage at 0x7f9d5c3d17c0>"
      ]
     },
     "execution_count": 5,
     "metadata": {},
     "output_type": "execute_result"
    },
    {
     "data": {
      "image/png": "[encoded data removed]",
      "text/plain": [
       "<Figure size 432x288 with 1 Axes>"
      ]
     },
     "metadata": {
      "needs_background": "light"
     },
     "output_type": "display_data"
    }
   ],
   "source": [
    "plt.imshow(im[0,0,:,:,0],cmap='jet')"
   ]
  },
  {
   "cell_type": "code",
   "execution_count": 6,
   "id": "e03f5eaf",
   "metadata": {},
   "outputs": [
    {
     "data": {
      "text/plain": [
       "<matplotlib.image.AxesImage at 0x7f9d5c2c43d0>"
      ]
     },
     "execution_count": 6,
     "metadata": {},
     "output_type": "execute_result"
    },
    {
     "data": {
      "image/png": "[encoded data removed]",
      "text/plain": [
       "<Figure size 432x288 with 1 Axes>"
      ]
     },
     "metadata": {
      "needs_background": "light"
     },
     "output_type": "display_data"
    }
   ],
   "source": [
    "plt.imshow(seg[0,0,:,:,0])"
   ]
  },
  {
   "cell_type": "code",
   "execution_count": 7,
   "id": "5f9a2f7e",
   "metadata": {},
   "outputs": [],
   "source": [
    "dice_metric = DiceMetric(include_background=False, reduction=\"mean\", get_not_nans=False)"
   ]
  },
  {
   "cell_type": "code",
   "execution_count": 8,
   "id": "779e1a66",
   "metadata": {},
   "outputs": [
    {
     "name": "stderr",
     "output_type": "stream",
     "text": [
      "/home/otarola/anaconda3/envs/fed/lib/python3.9/site-packages/monai/transforms/post/array.py:182: UserWarning: `threshold_values=True/False` is deprecated, please use `threshold=value` instead.\n",
      "  warnings.warn(\"`threshold_values=True/False` is deprecated, please use `threshold=value` instead.\")\n"
     ]
    }
   ],
   "source": [
    "post_trans = Compose([EnsureType(), Activations(sigmoid=True), AsDiscrete(threshold=True)])"
   ]
  },
  {
   "cell_type": "code",
   "execution_count": 9,
   "id": "f1165faa",
   "metadata": {},
   "outputs": [
    {
     "name": "stdout",
     "output_type": "stream",
     "text": [
      "cuda\n"
     ]
    }
   ],
   "source": [
    "device = torch.device(\"cuda\" if torch.cuda.is_available() else \"cpu\")\n",
    "print(device)"
   ]
  },
  {
   "cell_type": "code",
   "execution_count": 10,
   "id": "7cd5bd2d",
   "metadata": {},
   "outputs": [],
   "source": [
    "model = monai.networks.nets.UNet(\n",
    "    spatial_dims=2,\n",
    "    in_channels=1,\n",
    "    out_channels=1,\n",
    "    channels=(16, 32, 64, 128),\n",
    "    strides=(2, 2, 2),\n",
    "    kernel_size = (3,3),\n",
    "    #dropout = 0.2,\n",
    "    num_res_units=2,\n",
    ").to(device)\n"
   ]
  },
  {
   "cell_type": "code",
   "execution_count": 11,
   "id": "179bca0f",
   "metadata": {},
   "outputs": [],
   "source": [
    "loss_function = monai.losses.DiceLoss(sigmoid=True)\n",
    "optimizer = torch.optim.Adam(model.parameters(), 1e-3)"
   ]
  },
  {
   "cell_type": "code",
   "execution_count": 12,
   "id": "325ef409",
   "metadata": {},
   "outputs": [],
   "source": [
    "# start a typical PyTorch training\n",
    "best_metric = -1\n",
    "best_metric_epoch = -1\n",
    "epoch_loss_values = list()\n",
    "metric_values = list()\n",
    "writer = SummaryWriter()"
   ]
  },
  {
   "cell_type": "code",
   "execution_count": 32,
   "id": "cd5374d5",
   "metadata": {},
   "outputs": [
    {
     "name": "stdout",
     "output_type": "stream",
     "text": [
      "torch.Size([1, 1, 224, 224]) torch.Size([1, 1, 224, 224])\n"
     ]
    }
   ],
   "source": [
    "batch_data = next(iter(loader))\n",
    "inputs, labels = torch.swapaxes(batch_data[0][0], 1, -1).to(device), torch.swapaxes(batch_data[1][0], 1, -1).to(device).to(device)\n",
    "print(inputs.shape,labels.shape)"
   ]
  },
  {
   "cell_type": "code",
   "execution_count": 14,
   "id": "a73e3f7e",
   "metadata": {},
   "outputs": [
    {
     "data": {
      "text/plain": [
       "UNet(\n",
       "  (model): Sequential(\n",
       "    (0): ResidualUnit(\n",
       "      (conv): Sequential(\n",
       "        (unit0): Convolution(\n",
       "          (conv): Conv2d(1, 16, kernel_size=(3, 3), stride=(2, 2), padding=(1, 1))\n",
       "          (adn): ADN(\n",
       "            (N): InstanceNorm2d(16, eps=1e-05, momentum=0.1, affine=False, track_running_stats=False)\n",
       "            (D): Dropout(p=0.0, inplace=False)\n",
       "            (A): PReLU(num_parameters=1)\n",
       "          )\n",
       "        )\n",
       "        (unit1): Convolution(\n",
       "          (conv): Conv2d(16, 16, kernel_size=(3, 3), stride=(1, 1), padding=(1, 1))\n",
       "          (adn): ADN(\n",
       "            (N): InstanceNorm2d(16, eps=1e-05, momentum=0.1, affine=False, track_running_stats=False)\n",
       "            (D): Dropout(p=0.0, inplace=False)\n",
       "            (A): PReLU(num_parameters=1)\n",
       "          )\n",
       "        )\n",
       "      )\n",
       "      (residual): Conv2d(1, 16, kernel_size=(3, 3), stride=(2, 2), padding=(1, 1))\n",
       "    )\n",
       "    (1): SkipConnection(\n",
       "      (submodule): Sequential(\n",
       "        (0): ResidualUnit(\n",
       "          (conv): Sequential(\n",
       "            (unit0): Convolution(\n",
       "              (conv): Conv2d(16, 32, kernel_size=(3, 3), stride=(2, 2), padding=(1, 1))\n",
       "              (adn): ADN(\n",
       "                (N): InstanceNorm2d(32, eps=1e-05, momentum=0.1, affine=False, track_running_stats=False)\n",
       "                (D): Dropout(p=0.0, inplace=False)\n",
       "                (A): PReLU(num_parameters=1)\n",
       "              )\n",
       "            )\n",
       "            (unit1): Convolution(\n",
       "              (conv): Conv2d(32, 32, kernel_size=(3, 3), stride=(1, 1), padding=(1, 1))\n",
       "              (adn): ADN(\n",
       "                (N): InstanceNorm2d(32, eps=1e-05, momentum=0.1, affine=False, track_running_stats=False)\n",
       "                (D): Dropout(p=0.0, inplace=False)\n",
       "                (A): PReLU(num_parameters=1)\n",
       "              )\n",
       "            )\n",
       "          )\n",
       "          (residual): Conv2d(16, 32, kernel_size=(3, 3), stride=(2, 2), padding=(1, 1))\n",
       "        )\n",
       "        (1): SkipConnection(\n",
       "          (submodule): Sequential(\n",
       "            (0): ResidualUnit(\n",
       "              (conv): Sequential(\n",
       "                (unit0): Convolution(\n",
       "                  (conv): Conv2d(32, 64, kernel_size=(3, 3), stride=(2, 2), padding=(1, 1))\n",
       "                  (adn): ADN(\n",
       "                    (N): InstanceNorm2d(64, eps=1e-05, momentum=0.1, affine=False, track_running_stats=False)\n",
       "                    (D): Dropout(p=0.0, inplace=False)\n",
       "                    (A): PReLU(num_parameters=1)\n",
       "                  )\n",
       "                )\n",
       "                (unit1): Convolution(\n",
       "                  (conv): Conv2d(64, 64, kernel_size=(3, 3), stride=(1, 1), padding=(1, 1))\n",
       "                  (adn): ADN(\n",
       "                    (N): InstanceNorm2d(64, eps=1e-05, momentum=0.1, affine=False, track_running_stats=False)\n",
       "                    (D): Dropout(p=0.0, inplace=False)\n",
       "                    (A): PReLU(num_parameters=1)\n",
       "                  )\n",
       "                )\n",
       "              )\n",
       "              (residual): Conv2d(32, 64, kernel_size=(3, 3), stride=(2, 2), padding=(1, 1))\n",
       "            )\n",
       "            (1): SkipConnection(\n",
       "              (submodule): ResidualUnit(\n",
       "                (conv): Sequential(\n",
       "                  (unit0): Convolution(\n",
       "                    (conv): Conv2d(64, 128, kernel_size=(3, 3), stride=(1, 1), padding=(1, 1))\n",
       "                    (adn): ADN(\n",
       "                      (N): InstanceNorm2d(128, eps=1e-05, momentum=0.1, affine=False, track_running_stats=False)\n",
       "                      (D): Dropout(p=0.0, inplace=False)\n",
       "                      (A): PReLU(num_parameters=1)\n",
       "                    )\n",
       "                  )\n",
       "                  (unit1): Convolution(\n",
       "                    (conv): Conv2d(128, 128, kernel_size=(3, 3), stride=(1, 1), padding=(1, 1))\n",
       "                    (adn): ADN(\n",
       "                      (N): InstanceNorm2d(128, eps=1e-05, momentum=0.1, affine=False, track_running_stats=False)\n",
       "                      (D): Dropout(p=0.0, inplace=False)\n",
       "                      (A): PReLU(num_parameters=1)\n",
       "                    )\n",
       "                  )\n",
       "                )\n",
       "                (residual): Conv2d(64, 128, kernel_size=(1, 1), stride=(1, 1))\n",
       "              )\n",
       "            )\n",
       "            (2): Sequential(\n",
       "              (0): Convolution(\n",
       "                (conv): ConvTranspose2d(192, 32, kernel_size=(3, 3), stride=(2, 2), padding=(1, 1), output_padding=(1, 1))\n",
       "                (adn): ADN(\n",
       "                  (N): InstanceNorm2d(32, eps=1e-05, momentum=0.1, affine=False, track_running_stats=False)\n",
       "                  (D): Dropout(p=0.0, inplace=False)\n",
       "                  (A): PReLU(num_parameters=1)\n",
       "                )\n",
       "              )\n",
       "              (1): ResidualUnit(\n",
       "                (conv): Sequential(\n",
       "                  (unit0): Convolution(\n",
       "                    (conv): Conv2d(32, 32, kernel_size=(3, 3), stride=(1, 1), padding=(1, 1))\n",
       "                    (adn): ADN(\n",
       "                      (N): InstanceNorm2d(32, eps=1e-05, momentum=0.1, affine=False, track_running_stats=False)\n",
       "                      (D): Dropout(p=0.0, inplace=False)\n",
       "                      (A): PReLU(num_parameters=1)\n",
       "                    )\n",
       "                  )\n",
       "                )\n",
       "                (residual): Identity()\n",
       "              )\n",
       "            )\n",
       "          )\n",
       "        )\n",
       "        (2): Sequential(\n",
       "          (0): Convolution(\n",
       "            (conv): ConvTranspose2d(64, 16, kernel_size=(3, 3), stride=(2, 2), padding=(1, 1), output_padding=(1, 1))\n",
       "            (adn): ADN(\n",
       "              (N): InstanceNorm2d(16, eps=1e-05, momentum=0.1, affine=False, track_running_stats=False)\n",
       "              (D): Dropout(p=0.0, inplace=False)\n",
       "              (A): PReLU(num_parameters=1)\n",
       "            )\n",
       "          )\n",
       "          (1): ResidualUnit(\n",
       "            (conv): Sequential(\n",
       "              (unit0): Convolution(\n",
       "                (conv): Conv2d(16, 16, kernel_size=(3, 3), stride=(1, 1), padding=(1, 1))\n",
       "                (adn): ADN(\n",
       "                  (N): InstanceNorm2d(16, eps=1e-05, momentum=0.1, affine=False, track_running_stats=False)\n",
       "                  (D): Dropout(p=0.0, inplace=False)\n",
       "                  (A): PReLU(num_parameters=1)\n",
       "                )\n",
       "              )\n",
       "            )\n",
       "            (residual): Identity()\n",
       "          )\n",
       "        )\n",
       "      )\n",
       "    )\n",
       "    (2): Sequential(\n",
       "      (0): Convolution(\n",
       "        (conv): ConvTranspose2d(32, 1, kernel_size=(3, 3), stride=(2, 2), padding=(1, 1), output_padding=(1, 1))\n",
       "        (adn): ADN(\n",
       "          (N): InstanceNorm2d(1, eps=1e-05, momentum=0.1, affine=False, track_running_stats=False)\n",
       "          (D): Dropout(p=0.0, inplace=False)\n",
       "          (A): PReLU(num_parameters=1)\n",
       "        )\n",
       "      )\n",
       "      (1): ResidualUnit(\n",
       "        (conv): Sequential(\n",
       "          (unit0): Convolution(\n",
       "            (conv): Conv2d(1, 1, kernel_size=(3, 3), stride=(1, 1), padding=(1, 1))\n",
       "          )\n",
       "        )\n",
       "        (residual): Identity()\n",
       "      )\n",
       "    )\n",
       "  )\n",
       ")"
      ]
     },
     "execution_count": 14,
     "metadata": {},
     "output_type": "execute_result"
    }
   ],
   "source": [
    "model.train()"
   ]
  },
  {
   "cell_type": "code",
   "execution_count": 15,
   "id": "8ba093e4",
   "metadata": {},
   "outputs": [],
   "source": [
    "#Testing that the model works in one iteration\n",
    "optimizer.zero_grad()\n",
    "outputs = model(inputs)\n",
    "loss = loss_function(outputs, labels)\n",
    "loss.backward()\n",
    "optimizer.step()"
   ]
  },
  {
   "cell_type": "code",
   "execution_count": 16,
   "id": "1892242c",
   "metadata": {},
   "outputs": [
    {
     "name": "stdout",
     "output_type": "stream",
     "text": [
      "----------\n",
      "epoch 1/10\n",
      "epoch 1 average loss: 0.9518\n",
      "----------\n",
      "epoch 2/10\n",
      "epoch 2 average loss: 0.9279\n",
      "----------\n",
      "epoch 3/10\n",
      "epoch 3 average loss: 0.9217\n",
      "----------\n",
      "epoch 4/10\n",
      "epoch 4 average loss: 0.9070\n",
      "----------\n",
      "epoch 5/10\n",
      "epoch 5 average loss: 0.8965\n",
      "----------\n",
      "epoch 6/10\n",
      "epoch 6 average loss: 0.8819\n",
      "----------\n",
      "epoch 7/10\n",
      "epoch 7 average loss: 0.8600\n",
      "----------\n",
      "epoch 8/10\n",
      "epoch 8 average loss: 0.8459\n",
      "----------\n",
      "epoch 9/10\n",
      "epoch 9 average loss: 0.8160\n",
      "----------\n",
      "epoch 10/10\n",
      "epoch 10 average loss: 0.7971\n",
      "----------\n",
      "epoch 11/10\n",
      "epoch 11 average loss: 0.7925\n",
      "----------\n",
      "epoch 12/10\n",
      "epoch 12 average loss: 0.7532\n",
      "----------\n",
      "epoch 13/10\n",
      "epoch 13 average loss: 0.7654\n",
      "----------\n",
      "epoch 14/10\n",
      "epoch 14 average loss: 0.7199\n",
      "----------\n",
      "epoch 15/10\n",
      "epoch 15 average loss: 0.6969\n",
      "----------\n",
      "epoch 16/10\n",
      "epoch 16 average loss: 0.6797\n",
      "----------\n",
      "epoch 17/10\n",
      "epoch 17 average loss: 0.6678\n",
      "----------\n",
      "epoch 18/10\n",
      "epoch 18 average loss: 0.6673\n",
      "----------\n",
      "epoch 19/10\n",
      "epoch 19 average loss: 0.6564\n",
      "----------\n",
      "epoch 20/10\n",
      "epoch 20 average loss: 0.6380\n",
      "----------\n",
      "epoch 21/10\n",
      "epoch 21 average loss: 0.6425\n",
      "----------\n",
      "epoch 22/10\n",
      "epoch 22 average loss: 0.6384\n",
      "----------\n",
      "epoch 23/10\n",
      "epoch 23 average loss: 0.6141\n",
      "----------\n",
      "epoch 24/10\n",
      "epoch 24 average loss: 0.6476\n",
      "----------\n",
      "epoch 25/10\n",
      "epoch 25 average loss: 0.5933\n",
      "----------\n",
      "epoch 26/10\n",
      "epoch 26 average loss: 0.5791\n",
      "----------\n",
      "epoch 27/10\n",
      "epoch 27 average loss: 0.5908\n",
      "----------\n",
      "epoch 28/10\n",
      "epoch 28 average loss: 0.5910\n",
      "----------\n",
      "epoch 29/10\n",
      "epoch 29 average loss: 0.6027\n",
      "----------\n",
      "epoch 30/10\n",
      "epoch 30 average loss: 0.5984\n",
      "----------\n",
      "epoch 31/10\n",
      "epoch 31 average loss: 0.6114\n",
      "----------\n",
      "epoch 32/10\n",
      "epoch 32 average loss: 0.5763\n",
      "----------\n",
      "epoch 33/10\n",
      "epoch 33 average loss: 0.5569\n",
      "----------\n",
      "epoch 34/10\n",
      "epoch 34 average loss: 0.5297\n",
      "----------\n",
      "epoch 35/10\n",
      "epoch 35 average loss: 0.5320\n",
      "----------\n",
      "epoch 36/10\n",
      "epoch 36 average loss: 0.5405\n",
      "----------\n",
      "epoch 37/10\n",
      "epoch 37 average loss: 0.5334\n",
      "----------\n",
      "epoch 38/10\n",
      "epoch 38 average loss: 0.5520\n",
      "----------\n",
      "epoch 39/10\n",
      "epoch 39 average loss: 0.5412\n",
      "----------\n",
      "epoch 40/10\n",
      "epoch 40 average loss: 0.5181\n",
      "----------\n",
      "epoch 41/10\n",
      "epoch 41 average loss: 0.5450\n",
      "----------\n",
      "epoch 42/10\n",
      "epoch 42 average loss: 0.5183\n",
      "----------\n",
      "epoch 43/10\n",
      "epoch 43 average loss: 0.5023\n",
      "----------\n",
      "epoch 44/10\n",
      "epoch 44 average loss: 0.4796\n",
      "----------\n",
      "epoch 45/10\n",
      "epoch 45 average loss: 0.5059\n",
      "----------\n",
      "epoch 46/10\n",
      "epoch 46 average loss: 0.5057\n",
      "----------\n",
      "epoch 47/10\n",
      "epoch 47 average loss: 0.4981\n",
      "----------\n",
      "epoch 48/10\n",
      "epoch 48 average loss: 0.4648\n",
      "----------\n",
      "epoch 49/10\n",
      "epoch 49 average loss: 0.4455\n",
      "----------\n",
      "epoch 50/10\n",
      "epoch 50 average loss: 0.4629\n",
      "----------\n",
      "epoch 51/10\n",
      "epoch 51 average loss: 0.4513\n",
      "----------\n",
      "epoch 52/10\n",
      "epoch 52 average loss: 0.4315\n",
      "----------\n",
      "epoch 53/10\n",
      "epoch 53 average loss: 0.4362\n",
      "----------\n",
      "epoch 54/10\n",
      "epoch 54 average loss: 0.4450\n",
      "----------\n",
      "epoch 55/10\n",
      "epoch 55 average loss: 0.4271\n",
      "----------\n",
      "epoch 56/10\n",
      "epoch 56 average loss: 0.4089\n",
      "----------\n",
      "epoch 57/10\n",
      "epoch 57 average loss: 0.4489\n",
      "----------\n",
      "epoch 58/10\n",
      "epoch 58 average loss: 0.4130\n",
      "----------\n",
      "epoch 59/10\n",
      "epoch 59 average loss: 0.4777\n",
      "----------\n",
      "epoch 60/10\n",
      "epoch 60 average loss: 0.4244\n",
      "----------\n",
      "epoch 61/10\n",
      "epoch 61 average loss: 0.4149\n",
      "----------\n",
      "epoch 62/10\n",
      "epoch 62 average loss: 0.4153\n",
      "----------\n",
      "epoch 63/10\n",
      "epoch 63 average loss: 0.4009\n",
      "----------\n",
      "epoch 64/10\n",
      "epoch 64 average loss: 0.3995\n",
      "----------\n",
      "epoch 65/10\n",
      "epoch 65 average loss: 0.3913\n",
      "----------\n",
      "epoch 66/10\n",
      "epoch 66 average loss: 0.3962\n",
      "----------\n",
      "epoch 67/10\n",
      "epoch 67 average loss: 0.5030\n",
      "----------\n",
      "epoch 68/10\n",
      "epoch 68 average loss: 0.4560\n",
      "----------\n",
      "epoch 69/10\n",
      "epoch 69 average loss: 0.4128\n",
      "----------\n",
      "epoch 70/10\n",
      "epoch 70 average loss: 0.4626\n",
      "----------\n",
      "epoch 71/10\n",
      "epoch 71 average loss: 0.4757\n",
      "----------\n",
      "epoch 72/10\n",
      "epoch 72 average loss: 0.4804\n",
      "----------\n",
      "epoch 73/10\n",
      "epoch 73 average loss: 0.4095\n",
      "----------\n",
      "epoch 74/10\n",
      "epoch 74 average loss: 0.3778\n",
      "----------\n",
      "epoch 75/10\n",
      "epoch 75 average loss: 0.3907\n",
      "----------\n",
      "epoch 76/10\n",
      "epoch 76 average loss: 0.3831\n",
      "----------\n",
      "epoch 77/10\n",
      "epoch 77 average loss: 0.3872\n",
      "----------\n",
      "epoch 78/10\n",
      "epoch 78 average loss: 0.3709\n",
      "----------\n",
      "epoch 79/10\n",
      "epoch 79 average loss: 0.3646\n",
      "----------\n",
      "epoch 80/10\n",
      "epoch 80 average loss: 0.3957\n",
      "----------\n",
      "epoch 81/10\n",
      "epoch 81 average loss: 0.3799\n",
      "----------\n",
      "epoch 82/10\n",
      "epoch 82 average loss: 0.3634\n",
      "----------\n",
      "epoch 83/10\n",
      "epoch 83 average loss: 0.3576\n",
      "----------\n",
      "epoch 84/10\n",
      "epoch 84 average loss: 0.3573\n",
      "----------\n",
      "epoch 85/10\n",
      "epoch 85 average loss: 0.3514\n",
      "----------\n",
      "epoch 86/10\n",
      "epoch 86 average loss: 0.3556\n",
      "----------\n",
      "epoch 87/10\n",
      "epoch 87 average loss: 0.3616\n",
      "----------\n",
      "epoch 88/10\n",
      "epoch 88 average loss: 0.3822\n",
      "----------\n",
      "epoch 89/10\n",
      "epoch 89 average loss: 0.3477\n",
      "----------\n",
      "epoch 90/10\n",
      "epoch 90 average loss: 0.3332\n",
      "----------\n",
      "epoch 91/10\n",
      "epoch 91 average loss: 0.3449\n",
      "----------\n",
      "epoch 92/10\n",
      "epoch 92 average loss: 0.3710\n",
      "----------\n",
      "epoch 93/10\n",
      "epoch 93 average loss: 0.4142\n",
      "----------\n",
      "epoch 94/10\n",
      "epoch 94 average loss: 0.4604\n",
      "----------\n",
      "epoch 95/10\n",
      "epoch 95 average loss: 0.3434\n",
      "----------\n",
      "epoch 96/10\n",
      "epoch 96 average loss: 0.3315\n",
      "----------\n",
      "epoch 97/10\n",
      "epoch 97 average loss: 0.3405\n",
      "----------\n",
      "epoch 98/10\n",
      "epoch 98 average loss: 0.3447\n",
      "----------\n",
      "epoch 99/10\n",
      "epoch 99 average loss: 0.3314\n",
      "----------\n",
      "epoch 100/10\n",
      "epoch 100 average loss: 0.3601\n"
     ]
    }
   ],
   "source": [
    "for epoch in range(100):\n",
    "    print(\"-\" * 10)\n",
    "    print(f\"epoch {epoch + 1}/{10}\")\n",
    "    model.train()\n",
    "    epoch_loss = 0\n",
    "    step = 0\n",
    "    for batch_data in loader:\n",
    "        step += 1\n",
    "        #inputs, labels = batch_data[0].to(device), batch_data[1].to(device)\n",
    "        #Swaping axes to have a batch of Batch_size, Channels, width and height\n",
    "        inputs, labels = torch.swapaxes(batch_data[0][0], 1, -1).to(device), torch.swapaxes(batch_data[1][0], 1, -1).to(device).to(device)\n",
    "        optimizer.zero_grad()\n",
    "        outputs = model(inputs)\n",
    "        loss = loss_function(outputs, labels)\n",
    "        loss.backward()\n",
    "        optimizer.step()\n",
    "        epoch_loss += loss.item()\n",
    "        epoch_len = len(loader) // loader.batch_size\n",
    "        #print(f\"{step}/{epoch_len}, train_loss: {loss.item():.4f}\")\n",
    "        writer.add_scalar(\"train_loss\", loss.item(), epoch_len * epoch + step)\n",
    "    epoch_loss /= step\n",
    "    epoch_loss_values.append(epoch_loss)\n",
    "    print(f\"epoch {epoch + 1} average loss: {epoch_loss:.4f}\")\n",
    "    "
   ]
  },
  {
   "cell_type": "code",
   "execution_count": 70,
   "id": "5776c656",
   "metadata": {},
   "outputs": [
    {
     "name": "stdout",
     "output_type": "stream",
     "text": [
      "torch.Size([1, 1, 224, 224]) torch.Size([1, 1, 224, 224])\n"
     ]
    }
   ],
   "source": [
    "batch_data = first(loader)\n",
    "inputs, labels = torch.swapaxes(batch_data[0][0], 1, -1).to(device), torch.swapaxes(batch_data[1][0], 1, -1).to(device).to(device)\n",
    "print(inputs.shape,labels.shape)\n",
    "\n"
   ]
  },
  {
   "cell_type": "code",
   "execution_count": 71,
   "id": "fc98d6ff",
   "metadata": {},
   "outputs": [
    {
     "data": {
      "text/plain": [
       "torch.Size([1, 1, 224, 224])"
      ]
     },
     "execution_count": 71,
     "metadata": {},
     "output_type": "execute_result"
    }
   ],
   "source": [
    "outputs = model(inputs)\n",
    "\n",
    "outputs.shape"
   ]
  },
  {
   "cell_type": "code",
   "execution_count": 72,
   "id": "6137885b",
   "metadata": {},
   "outputs": [
    {
     "data": {
      "text/plain": [
       "<matplotlib.image.AxesImage at 0x7f9d242fab80>"
      ]
     },
     "execution_count": 72,
     "metadata": {},
     "output_type": "execute_result"
    },
    {
     "data": {
      "image/png": "[encoded data removed]",
      "text/plain": [
       "<Figure size 432x288 with 1 Axes>"
      ]
     },
     "metadata": {
      "needs_background": "light"
     },
     "output_type": "display_data"
    }
   ],
   "source": [
    "plt.imshow(outputs[0,0,:,:].cpu().detach().numpy())"
   ]
  },
  {
   "cell_type": "code",
   "execution_count": 73,
   "id": "c7cace4f",
   "metadata": {},
   "outputs": [
    {
     "data": {
      "text/plain": [
       "<matplotlib.image.AxesImage at 0x7f9d242e7970>"
      ]
     },
     "execution_count": 73,
     "metadata": {},
     "output_type": "execute_result"
    },
    {
     "data": {
      "image/png": "[encoded data removed]",
      "text/plain": [
       "<Figure size 432x288 with 1 Axes>"
      ]
     },
     "metadata": {
      "needs_background": "light"
     },
     "output_type": "display_data"
    }
   ],
   "source": [
    "plt.imshow(labels[0,0,0:,:].cpu().detach().numpy())"
   ]
  },
  {
   "cell_type": "code",
   "execution_count": 30,
   "id": "28d4282b",
   "metadata": {},
   "outputs": [
    {
     "data": {
      "text/plain": [
       "torch.Size([1, 224, 224])"
      ]
     },
     "execution_count": 30,
     "metadata": {},
     "output_type": "execute_result"
    }
   ],
   "source": [
    "labels[0,0:,:].shape"
   ]
  },
  {
   "cell_type": "code",
   "execution_count": null,
   "id": "799a426c",
   "metadata": {},
   "outputs": [],
   "source": []
  }
 ],
 "metadata": {
  "kernelspec": {
   "display_name": "Python 3 (ipykernel)",
   "language": "python",
   "name": "python3"
  },
  "language_info": {
   "codemirror_mode": {
    "name": "ipython",
    "version": 3
   },
   "file_extension": ".py",
   "mimetype": "text/x-python",
   "name": "python",
   "nbconvert_exporter": "python",
   "pygments_lexer": "ipython3",
   "version": "3.9.7"
  }
 },
 "nbformat": 4,
 "nbformat_minor": 5
}
