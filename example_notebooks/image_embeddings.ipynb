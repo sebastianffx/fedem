{
 "cells": [
  {
   "cell_type": "code",
   "execution_count": 1,
   "id": "18e500bd",
   "metadata": {
    "scrolled": true
   },
   "outputs": [
    {
     "name": "stdout",
     "output_type": "stream",
     "text": [
      "0.8.0\n",
      "MONAI version: 0.8.0\n",
      "Numpy version: 1.19.5\n",
      "Pytorch version: 1.10.0\n",
      "MONAI flags: HAS_EXT = False, USE_COMPILED = False\n",
      "MONAI rev id: 714d00dffe6653e21260160666c4c201ab66511b\n",
      "\n",
      "Optional dependencies:\n",
      "Pytorch Ignite version: 0.4.7\n",
      "Nibabel version: 3.2.1\n",
      "scikit-image version: NOT INSTALLED or UNKNOWN VERSION.\n",
      "Pillow version: 8.4.0\n",
      "Tensorboard version: 2.7.0\n",
      "gdown version: NOT INSTALLED or UNKNOWN VERSION.\n",
      "TorchVision version: 0.11.1\n",
      "tqdm version: 4.62.3\n",
      "lmdb version: NOT INSTALLED or UNKNOWN VERSION.\n",
      "psutil version: NOT INSTALLED or UNKNOWN VERSION.\n",
      "pandas version: 1.3.4\n",
      "einops version: NOT INSTALLED or UNKNOWN VERSION.\n",
      "transformers version: NOT INSTALLED or UNKNOWN VERSION.\n",
      "mlflow version: NOT INSTALLED or UNKNOWN VERSION.\n",
      "\n",
      "For details about installing the optional dependencies, please visit:\n",
      "    https://docs.monai.io/en/latest/installation.html#installing-the-recommended-dependencies\n",
      "\n"
     ]
    }
   ],
   "source": [
    "import nibabel as nib #to read the niftis\n",
    "from glob import glob #to quicly read the nifti paths\n",
    "import logging # for printing monai info\n",
    "import sys # for printing monai info\n",
    "import monai #for this experiment monai will be the main framework for 2d segmentation\n",
    "import torch\n",
    "from monai.transforms import (\n",
    "    Activations,\n",
    "    Activationsd,\n",
    "    AddChannel,\n",
    "    AsDiscrete,\n",
    "    AsDiscreted,\n",
    "    AsChannelFirst,\n",
    "    Compose,\n",
    "    ConvertToMultiChannelBasedOnBratsClassesd,\n",
    "    Invertd,\n",
    "    LoadImaged,\n",
    "    LabelToMask,\n",
    "    LoadImage,\n",
    "    MapTransform,\n",
    "    NormalizeIntensity,\n",
    "    NormalizeIntensityd,\n",
    "    Orientationd,\n",
    "    RandFlipd,\n",
    "    RandScaleIntensityd,\n",
    "    RandShiftIntensityd,\n",
    "    RandSpatialCropd,\n",
    "    RandSpatialCrop,\n",
    "    Resize,\n",
    "    RandFlip,\n",
    "    RandRotate,\n",
    "    Spacing,\n",
    "    Spacingd,\n",
    "    ScaleIntensity, \n",
    "    SpatialCrop,\n",
    "    ToTensor,\n",
    "    EnsureChannelFirstd,\n",
    "    EnsureTyped,\n",
    "    EnsureType,\n",
    "    Resized\n",
    ")\n",
    "from torch.utils.tensorboard import SummaryWriter\n",
    "\n",
    "from monai.data import (\n",
    "    ArrayDataset, GridPatchDataset, create_test_image_3d, PatchIter) #Aparently this allow to read direcly a set of niftis\n",
    "from monai.utils import first\n",
    "from matplotlib import pyplot as plt\n",
    "from monai.metrics import DiceMetric\n",
    "\n",
    "import numpy as np\n",
    "\n",
    "#from img2vec_pytorch import Img2Vec\n",
    "from PIL import Image\n",
    "from matplotlib import cm\n",
    "from torch import nn\n",
    "import torch.nn.functional as F\n",
    "from natsort import natsorted\n",
    "\n",
    "#UMAP imports\n",
    "import umap\n",
    "import numpy as np\n",
    "from sklearn.datasets import load_digits\n",
    "from sklearn.model_selection import train_test_split\n",
    "from sklearn.preprocessing import StandardScaler\n",
    "import matplotlib.pyplot as plt\n",
    "import seaborn as sns\n",
    "import pandas as pd\n",
    "import pickle\n",
    "%matplotlib inline\n",
    "\n",
    "from utils import ConvertLabelBrats\n",
    "\n",
    "from monai.networks.nets import AHNet, DenseNet121\n",
    "#from torch_intermediate_layer_getter import IntermediateLayerGetter as MidGetter\n",
    "print(monai.__version__) \n",
    "\n",
    "monai.config.print_config()\n",
    "logging.basicConfig(stream=sys.stdout, level=logging.INFO)\n",
    "\n",
    "\n"
   ]
  },
  {
   "cell_type": "code",
   "execution_count": 3,
   "id": "80ec65e1",
   "metadata": {},
   "outputs": [],
   "source": [
    "imtrans = Compose(\n",
    "    [   LoadImage(image_only=True),\n",
    "         Spacing(\n",
    "            pixdim=(1.0, 1.0, 1.0),\n",
    "            mode=(\"bilinear\"),\n",
    "            image_only = True,\n",
    "        ),\n",
    "        #ScaleIntensity(),\n",
    "        #NormalizeIntensity(nonzero=True, channel_wise=True),\n",
    "        AsChannelFirst(),\n",
    "        ToTensor(),\n",
    "        #AddChannel(),\n",
    "        #EnsureType(),\n",
    "        #Resized,\n",
    "        #RandFlip(prob=0.5, spatial_axis=0),\n",
    "        RandRotate(),\n",
    "        NormalizeIntensity(nonzero=True, channel_wise=True),\n",
    "        Resize(spatial_size=(112,112,72))\n",
    "    ]\n",
    ")\n",
    "\n",
    "segtrans = Compose(\n",
    "    [   LoadImage(image_only=True),\n",
    "        #AsChannelFirst(),\n",
    "        ToTensor(),\n",
    "        AddChannel(),\n",
    "        #ConvertLabelBrats(keys=(1,2,4)),\n",
    "         #EnsureType(),\n",
    "        #Resized,\n",
    "        Resize(spatial_size=(112,112,72),mode='nearest')\n",
    "    ]\n",
    ")\n"
   ]
  },
  {
   "cell_type": "code",
   "execution_count": 4,
   "id": "dcbaa89b",
   "metadata": {},
   "outputs": [
    {
     "data": {
      "text/plain": [
       "259"
      ]
     },
     "execution_count": 4,
     "metadata": {},
     "output_type": "execute_result"
    }
   ],
   "source": [
    "LIEU = 'sebastian_laptop'\n",
    "\n",
    "if LIEU=='sebastian_insel':\n",
    "    root_exp  = '/home/sebastian/experiments/fedem/'\n",
    "    root_data = '/media/sebastian/data/ASAP/BRATS_2019_ubelix/center_wise/'\n",
    "    brats_nifti__dir_paths = natsorted(glob(root_data+\"**/**/\"))\n",
    "\n",
    "if LIEU=='sebastian_laptop':\n",
    "    root_exp  = '/Users/sebastianotalora/work/postdoc/federated_learning/fedem/'\n",
    "    root_data = '/Users/sebastianotalora/work/postdoc/federated_learning/data/'\n",
    "    brats_nifti__dir_paths = natsorted(glob(root_data+'brats/'\"**/**/\"))\n",
    "len(brats_nifti__dir_paths)#Should be 259"
   ]
  },
  {
   "cell_type": "code",
   "execution_count": 5,
   "id": "ef59b322",
   "metadata": {},
   "outputs": [],
   "source": [
    "EXP_TYPE = 'FEDERATED' #FEDERATED\n",
    "if EXP_TYPE == 'FEDERATED':\n",
    "    train_ids_centers = []\n",
    "    val_ids_centers   = []\n",
    "    test_ids_centers  = []\n",
    "    for i in range(1,5): #four centers for BraTS\n",
    "        train_file = root_exp +  '/data/partitions/federated_brats/brats_federated_training_center_'+str(i)+'.txt'\n",
    "        valid_file = root_exp +  '/data/partitions/federated_brats/brats_federated_validation_center_'+str(i)+'.txt'\n",
    "        test_file = root_exp +  '/data/partitions/federated_brats/brats_federated_test_center_'+str(i)+'.txt'\n",
    "        train_ids_centers.append(tuple(open(train_file).read().split('\\n')))\n",
    "        val_ids_centers.append(tuple(open(valid_file).read().split('\\n')))\n",
    "        test_ids_centers.append(tuple(open(test_file).read().split('\\n')))    \n",
    "if EXP_TYPE == 'CENTRALIZED':\n",
    "    train_ids = tuple(open(root_exp+'data/partitions/brats_centralized_train.txt').read().split('\\n'))\n",
    "    val_ids = tuple(open(root_exp+'data/partitions/brats_centralized_validation.txt').read().split('\\n'))\n",
    "    test_ids = tuple(open(root_exp+'data/partitions/brats_centralized_test.txt').read().split('\\n'))"
   ]
  },
  {
   "cell_type": "code",
   "execution_count": 6,
   "id": "f20196c0",
   "metadata": {},
   "outputs": [
    {
     "name": "stdout",
     "output_type": "stream",
     "text": [
      "cpu\n"
     ]
    }
   ],
   "source": [
    "device = torch.device(\"cuda\" if torch.cuda.is_available() else \"cpu\")\n",
    "print(device)"
   ]
  },
  {
   "cell_type": "code",
   "execution_count": 7,
   "id": "7d559409",
   "metadata": {},
   "outputs": [
    {
     "name": "stdout",
     "output_type": "stream",
     "text": [
      "14 2 4\n"
     ]
    }
   ],
   "source": [
    "count_saving = 0\n",
    "train_volumes_paths, train_labels_paths = [],[]\n",
    "validation_volumes_paths, validation_labels_paths = [],[]\n",
    "test_volumes_paths, test_labels_paths = [],[]\n",
    "\n",
    "train_ids = train_ids_centers[0]\n",
    "val_ids   = val_ids_centers[0]\n",
    "test_ids = test_ids_centers[0]\n",
    "\n",
    "for item in brats_nifti__dir_paths:\n",
    "    if item.split('/')[-2] in set(train_ids):\n",
    "        train_volumes_paths.append(item+\"stacked.nii.gz\")\n",
    "        train_labels_paths.append(item+\"gt.nii.gz\")\n",
    "    if item.split('/')[-2] in set(val_ids):\n",
    "        validation_volumes_paths.append(item+\"stacked.nii.gz\")\n",
    "        validation_labels_paths.append(item+\"gt.nii.gz\")\n",
    "    if item.split('/')[-2] in set(test_ids):\n",
    "        test_volumes_paths.append(item+\"stacked.nii.gz\")\n",
    "        test_labels_paths.append(item+\"gt.nii.gz\")\n",
    "print(len(train_volumes_paths),len(validation_volumes_paths),len(test_volumes_paths))\n"
   ]
  },
  {
   "cell_type": "code",
   "execution_count": 8,
   "id": "4b14a3a6",
   "metadata": {},
   "outputs": [],
   "source": [
    "train_ds    = ArrayDataset(train_volumes_paths, imtrans, train_labels_paths, segtrans)\n",
    "validation_ds    = ArrayDataset(validation_volumes_paths, imtrans, validation_labels_paths, segtrans)\n",
    "test_ds    = ArrayDataset(test_volumes_paths, imtrans, test_labels_paths, segtrans)"
   ]
  },
  {
   "cell_type": "code",
   "execution_count": 9,
   "id": "5b5ab73a",
   "metadata": {},
   "outputs": [
    {
     "data": {
      "text/plain": [
       "16"
      ]
     },
     "execution_count": 9,
     "metadata": {},
     "output_type": "execute_result"
    }
   ],
   "source": [
    "len(train_ds + validation_ds)"
   ]
  },
  {
   "cell_type": "code",
   "execution_count": 10,
   "id": "05fd20f2",
   "metadata": {},
   "outputs": [
    {
     "name": "stderr",
     "output_type": "stream",
     "text": [
      "Downloading: \"https://download.pytorch.org/models/densenet121-a639ec97.pth\" to /Users/sebastianotalora/.cache/torch/hub/checkpoints/densenet121-a639ec97.pth\n"
     ]
    },
    {
     "data": {
      "application/vnd.jupyter.widget-view+json": {
       "model_id": "7e3acceddc0f432bb3665ad79f4a91e5",
       "version_major": 2,
       "version_minor": 0
      },
      "text/plain": [
       "  0%|          | 0.00/30.8M [00:00<?, ?B/s]"
      ]
     },
     "metadata": {},
     "output_type": "display_data"
    }
   ],
   "source": [
    "embedding_model = DenseNet121(pretrained=True, spatial_dims = 2, in_channels=4,out_channels = 1)"
   ]
  },
  {
   "cell_type": "code",
   "execution_count": 11,
   "id": "13b37d47",
   "metadata": {},
   "outputs": [
    {
     "name": "stderr",
     "output_type": "stream",
     "text": [
      "/opt/anaconda3/envs/fed/lib/python3.9/site-packages/monai/data/utils.py:532: UserWarning: Modifying image pixdim from [1. 1. 1. 1.] to [  1.           1.           1.         239.00209204]\n",
      "  warnings.warn(f\"Modifying image pixdim from {pixdim} to {norm}\")\n"
     ]
    },
    {
     "name": "stdout",
     "output_type": "stream",
     "text": [
      "torch.Size([4, 112, 112, 72])\n"
     ]
    }
   ],
   "source": [
    "vol_example = train_ds[0][0]\n",
    "print(vol_example.shape)"
   ]
  },
  {
   "cell_type": "code",
   "execution_count": 12,
   "id": "3a722de5",
   "metadata": {},
   "outputs": [
    {
     "data": {
      "text/plain": [
       "<torch.utils.hooks.RemovableHandle at 0x7fb9895194c0>"
      ]
     },
     "execution_count": 12,
     "metadata": {},
     "output_type": "execute_result"
    }
   ],
   "source": [
    "activation = {}\n",
    "def get_activation(name):\n",
    "    def hook(model, input, output):\n",
    "        activation[name] = output.detach()\n",
    "    return hook\n",
    "embedding_model.features.denseblock4.register_forward_hook(get_activation('norm5'))"
   ]
  },
  {
   "cell_type": "code",
   "execution_count": 13,
   "id": "cd4e9e28",
   "metadata": {},
   "outputs": [],
   "source": [
    "sample = vol_example\n",
    "def all_slice_embeddings(sample,embedding_model):\n",
    "    slice_embeddings = []\n",
    "    for i in range(sample.shape[-1]):#Loop over all the slices\n",
    "        cur_slice  = sample[np.newaxis,:,:,:,i]\n",
    "        cur_output = embedding_model(cur_slice)[0]    \n",
    "        slice_embeddings.append(np.average(np.average(activation['norm5'],axis=2),axis=2)[0])\n",
    "    slice_embeddings = torch.tensor(np.array(slice_embeddings))\n",
    "    return slice_embeddings"
   ]
  },
  {
   "cell_type": "code",
   "execution_count": 88,
   "id": "96baa15d",
   "metadata": {},
   "outputs": [
    {
     "name": "stdout",
     "output_type": "stream",
     "text": [
      "=======Computing embeddings for center 0 =======\n",
      "14 2 4\n",
      "Computing the embeddings of training sample 0 out of 14\n",
      "Computing the embeddings of training sample 1 out of 14\n",
      "Computing the embeddings of training sample 2 out of 14\n",
      "Computing the embeddings of training sample 3 out of 14\n",
      "Computing the embeddings of training sample 4 out of 14\n",
      "Computing the embeddings of training sample 5 out of 14\n",
      "Computing the embeddings of training sample 6 out of 14\n",
      "Computing the embeddings of training sample 7 out of 14\n",
      "Computing the embeddings of training sample 8 out of 14\n",
      "Computing the embeddings of training sample 9 out of 14\n",
      "Computing the embeddings of training sample 10 out of 14\n",
      "Computing the embeddings of training sample 11 out of 14\n",
      "Computing the embeddings of training sample 12 out of 14\n",
      "Computing the embeddings of training sample 13 out of 14\n",
      "Computing the embeddings of validation sample 0 out of 2\n",
      "Computing the embeddings of validation sample 1 out of 2\n",
      "Computing the embeddings of test sample 0 out of 4\n",
      "Computing the embeddings of test sample 1 out of 4\n",
      "Computing the embeddings of test sample 2 out of 4\n",
      "Computing the embeddings of test sample 3 out of 4\n",
      "=======Computing embeddings for center 1 =======\n",
      "90 14 25\n",
      "Computing the embeddings of training sample 0 out of 90\n",
      "Computing the embeddings of training sample 1 out of 90\n",
      "Computing the embeddings of training sample 2 out of 90\n",
      "Computing the embeddings of training sample 3 out of 90\n",
      "Computing the embeddings of training sample 4 out of 90\n",
      "Computing the embeddings of training sample 5 out of 90\n",
      "Computing the embeddings of training sample 6 out of 90\n",
      "Computing the embeddings of training sample 7 out of 90\n",
      "Computing the embeddings of training sample 8 out of 90\n",
      "Computing the embeddings of training sample 9 out of 90\n",
      "Computing the embeddings of training sample 10 out of 90\n",
      "Computing the embeddings of training sample 11 out of 90\n",
      "Computing the embeddings of training sample 12 out of 90\n",
      "Computing the embeddings of training sample 13 out of 90\n",
      "Computing the embeddings of training sample 14 out of 90\n",
      "Computing the embeddings of training sample 15 out of 90\n",
      "Computing the embeddings of training sample 16 out of 90\n",
      "Computing the embeddings of training sample 17 out of 90\n",
      "Computing the embeddings of training sample 18 out of 90\n",
      "Computing the embeddings of training sample 19 out of 90\n",
      "Computing the embeddings of training sample 20 out of 90\n",
      "Computing the embeddings of training sample 21 out of 90\n",
      "Computing the embeddings of training sample 22 out of 90\n",
      "Computing the embeddings of training sample 23 out of 90\n",
      "Computing the embeddings of training sample 24 out of 90\n",
      "Computing the embeddings of training sample 25 out of 90\n",
      "Computing the embeddings of training sample 26 out of 90\n",
      "Computing the embeddings of training sample 27 out of 90\n",
      "Computing the embeddings of training sample 28 out of 90\n",
      "Computing the embeddings of training sample 29 out of 90\n",
      "Computing the embeddings of training sample 30 out of 90\n",
      "Computing the embeddings of training sample 31 out of 90\n",
      "Computing the embeddings of training sample 32 out of 90\n",
      "Computing the embeddings of training sample 33 out of 90\n",
      "Computing the embeddings of training sample 34 out of 90\n",
      "Computing the embeddings of training sample 35 out of 90\n",
      "Computing the embeddings of training sample 36 out of 90\n",
      "Computing the embeddings of training sample 37 out of 90\n",
      "Computing the embeddings of training sample 38 out of 90\n",
      "Computing the embeddings of training sample 39 out of 90\n",
      "Computing the embeddings of training sample 40 out of 90\n",
      "Computing the embeddings of training sample 41 out of 90\n",
      "Computing the embeddings of training sample 42 out of 90\n",
      "Computing the embeddings of training sample 43 out of 90\n",
      "Computing the embeddings of training sample 44 out of 90\n",
      "Computing the embeddings of training sample 45 out of 90\n",
      "Computing the embeddings of training sample 46 out of 90\n",
      "Computing the embeddings of training sample 47 out of 90\n",
      "Computing the embeddings of training sample 48 out of 90\n",
      "Computing the embeddings of training sample 49 out of 90\n",
      "Computing the embeddings of training sample 50 out of 90\n",
      "Computing the embeddings of training sample 51 out of 90\n",
      "Computing the embeddings of training sample 52 out of 90\n",
      "Computing the embeddings of training sample 53 out of 90\n",
      "Computing the embeddings of training sample 54 out of 90\n",
      "Computing the embeddings of training sample 55 out of 90\n",
      "Computing the embeddings of training sample 56 out of 90\n",
      "Computing the embeddings of training sample 57 out of 90\n",
      "Computing the embeddings of training sample 58 out of 90\n",
      "Computing the embeddings of training sample 59 out of 90\n",
      "Computing the embeddings of training sample 60 out of 90\n",
      "Computing the embeddings of training sample 61 out of 90\n",
      "Computing the embeddings of training sample 62 out of 90\n",
      "Computing the embeddings of training sample 63 out of 90\n",
      "Computing the embeddings of training sample 64 out of 90\n",
      "Computing the embeddings of training sample 65 out of 90\n",
      "Computing the embeddings of training sample 66 out of 90\n",
      "Computing the embeddings of training sample 67 out of 90\n",
      "Computing the embeddings of training sample 68 out of 90\n",
      "Computing the embeddings of training sample 69 out of 90\n",
      "Computing the embeddings of training sample 70 out of 90\n",
      "Computing the embeddings of training sample 71 out of 90\n",
      "Computing the embeddings of training sample 72 out of 90\n",
      "Computing the embeddings of training sample 73 out of 90\n",
      "Computing the embeddings of training sample 74 out of 90\n",
      "Computing the embeddings of training sample 75 out of 90\n",
      "Computing the embeddings of training sample 76 out of 90\n",
      "Computing the embeddings of training sample 77 out of 90\n",
      "Computing the embeddings of training sample 78 out of 90\n",
      "Computing the embeddings of training sample 79 out of 90\n",
      "Computing the embeddings of training sample 80 out of 90\n",
      "Computing the embeddings of training sample 81 out of 90\n",
      "Computing the embeddings of training sample 82 out of 90\n",
      "Computing the embeddings of training sample 83 out of 90\n",
      "Computing the embeddings of training sample 84 out of 90\n",
      "Computing the embeddings of training sample 85 out of 90\n",
      "Computing the embeddings of training sample 86 out of 90\n",
      "Computing the embeddings of training sample 87 out of 90\n",
      "Computing the embeddings of training sample 88 out of 90\n",
      "Computing the embeddings of training sample 89 out of 90\n",
      "Computing the embeddings of validation sample 0 out of 14\n",
      "Computing the embeddings of validation sample 1 out of 14\n",
      "Computing the embeddings of validation sample 2 out of 14\n",
      "Computing the embeddings of validation sample 3 out of 14\n",
      "Computing the embeddings of validation sample 4 out of 14\n",
      "Computing the embeddings of validation sample 5 out of 14\n",
      "Computing the embeddings of validation sample 6 out of 14\n",
      "Computing the embeddings of validation sample 7 out of 14\n",
      "Computing the embeddings of validation sample 8 out of 14\n",
      "Computing the embeddings of validation sample 9 out of 14\n",
      "Computing the embeddings of validation sample 10 out of 14\n",
      "Computing the embeddings of validation sample 11 out of 14\n",
      "Computing the embeddings of validation sample 12 out of 14\n",
      "Computing the embeddings of validation sample 13 out of 14\n",
      "Computing the embeddings of test sample 0 out of 25\n",
      "Computing the embeddings of test sample 1 out of 25\n",
      "Computing the embeddings of test sample 2 out of 25\n",
      "Computing the embeddings of test sample 3 out of 25\n",
      "Computing the embeddings of test sample 4 out of 25\n",
      "Computing the embeddings of test sample 5 out of 25\n",
      "Computing the embeddings of test sample 6 out of 25\n",
      "Computing the embeddings of test sample 7 out of 25\n",
      "Computing the embeddings of test sample 8 out of 25\n",
      "Computing the embeddings of test sample 9 out of 25\n",
      "Computing the embeddings of test sample 10 out of 25\n",
      "Computing the embeddings of test sample 11 out of 25\n",
      "Computing the embeddings of test sample 12 out of 25\n",
      "Computing the embeddings of test sample 13 out of 25\n",
      "Computing the embeddings of test sample 14 out of 25\n",
      "Computing the embeddings of test sample 15 out of 25\n",
      "Computing the embeddings of test sample 16 out of 25\n",
      "Computing the embeddings of test sample 17 out of 25\n",
      "Computing the embeddings of test sample 18 out of 25\n",
      "Computing the embeddings of test sample 19 out of 25\n"
     ]
    },
    {
     "name": "stdout",
     "output_type": "stream",
     "text": [
      "Computing the embeddings of test sample 20 out of 25\n",
      "Computing the embeddings of test sample 21 out of 25\n",
      "Computing the embeddings of test sample 22 out of 25\n",
      "Computing the embeddings of test sample 23 out of 25\n",
      "Computing the embeddings of test sample 24 out of 25\n",
      "=======Computing embeddings for center 2 =======\n",
      "71 11 20\n",
      "Computing the embeddings of training sample 0 out of 71\n",
      "Computing the embeddings of training sample 1 out of 71\n",
      "Computing the embeddings of training sample 2 out of 71\n",
      "Computing the embeddings of training sample 3 out of 71\n",
      "Computing the embeddings of training sample 4 out of 71\n",
      "Computing the embeddings of training sample 5 out of 71\n",
      "Computing the embeddings of training sample 6 out of 71\n",
      "Computing the embeddings of training sample 7 out of 71\n",
      "Computing the embeddings of training sample 8 out of 71\n",
      "Computing the embeddings of training sample 9 out of 71\n",
      "Computing the embeddings of training sample 10 out of 71\n",
      "Computing the embeddings of training sample 11 out of 71\n",
      "Computing the embeddings of training sample 12 out of 71\n",
      "Computing the embeddings of training sample 13 out of 71\n",
      "Computing the embeddings of training sample 14 out of 71\n",
      "Computing the embeddings of training sample 15 out of 71\n",
      "Computing the embeddings of training sample 16 out of 71\n",
      "Computing the embeddings of training sample 17 out of 71\n",
      "Computing the embeddings of training sample 18 out of 71\n",
      "Computing the embeddings of training sample 19 out of 71\n",
      "Computing the embeddings of training sample 20 out of 71\n",
      "Computing the embeddings of training sample 21 out of 71\n",
      "Computing the embeddings of training sample 22 out of 71\n",
      "Computing the embeddings of training sample 23 out of 71\n",
      "Computing the embeddings of training sample 24 out of 71\n",
      "Computing the embeddings of training sample 25 out of 71\n",
      "Computing the embeddings of training sample 26 out of 71\n",
      "Computing the embeddings of training sample 27 out of 71\n",
      "Computing the embeddings of training sample 28 out of 71\n",
      "Computing the embeddings of training sample 29 out of 71\n",
      "Computing the embeddings of training sample 30 out of 71\n",
      "Computing the embeddings of training sample 31 out of 71\n",
      "Computing the embeddings of training sample 32 out of 71\n",
      "Computing the embeddings of training sample 33 out of 71\n",
      "Computing the embeddings of training sample 34 out of 71\n",
      "Computing the embeddings of training sample 35 out of 71\n",
      "Computing the embeddings of training sample 36 out of 71\n",
      "Computing the embeddings of training sample 37 out of 71\n",
      "Computing the embeddings of training sample 38 out of 71\n",
      "Computing the embeddings of training sample 39 out of 71\n",
      "Computing the embeddings of training sample 40 out of 71\n",
      "Computing the embeddings of training sample 41 out of 71\n",
      "Computing the embeddings of training sample 42 out of 71\n",
      "Computing the embeddings of training sample 43 out of 71\n",
      "Computing the embeddings of training sample 44 out of 71\n",
      "Computing the embeddings of training sample 45 out of 71\n",
      "Computing the embeddings of training sample 46 out of 71\n",
      "Computing the embeddings of training sample 47 out of 71\n",
      "Computing the embeddings of training sample 48 out of 71\n",
      "Computing the embeddings of training sample 49 out of 71\n",
      "Computing the embeddings of training sample 50 out of 71\n",
      "Computing the embeddings of training sample 51 out of 71\n",
      "Computing the embeddings of training sample 52 out of 71\n",
      "Computing the embeddings of training sample 53 out of 71\n",
      "Computing the embeddings of training sample 54 out of 71\n",
      "Computing the embeddings of training sample 55 out of 71\n",
      "Computing the embeddings of training sample 56 out of 71\n",
      "Computing the embeddings of training sample 57 out of 71\n",
      "Computing the embeddings of training sample 58 out of 71\n",
      "Computing the embeddings of training sample 59 out of 71\n",
      "Computing the embeddings of training sample 60 out of 71\n",
      "Computing the embeddings of training sample 61 out of 71\n",
      "Computing the embeddings of training sample 62 out of 71\n",
      "Computing the embeddings of training sample 63 out of 71\n",
      "Computing the embeddings of training sample 64 out of 71\n",
      "Computing the embeddings of training sample 65 out of 71\n",
      "Computing the embeddings of training sample 66 out of 71\n",
      "Computing the embeddings of training sample 67 out of 71\n",
      "Computing the embeddings of training sample 68 out of 71\n",
      "Computing the embeddings of training sample 69 out of 71\n",
      "Computing the embeddings of training sample 70 out of 71\n",
      "Computing the embeddings of validation sample 0 out of 11\n",
      "Computing the embeddings of validation sample 1 out of 11\n",
      "Computing the embeddings of validation sample 2 out of 11\n",
      "Computing the embeddings of validation sample 3 out of 11\n",
      "Computing the embeddings of validation sample 4 out of 11\n",
      "Computing the embeddings of validation sample 5 out of 11\n",
      "Computing the embeddings of validation sample 6 out of 11\n",
      "Computing the embeddings of validation sample 7 out of 11\n",
      "Computing the embeddings of validation sample 8 out of 11\n",
      "Computing the embeddings of validation sample 9 out of 11\n",
      "Computing the embeddings of validation sample 10 out of 11\n",
      "Computing the embeddings of test sample 0 out of 20\n",
      "Computing the embeddings of test sample 1 out of 20\n",
      "Computing the embeddings of test sample 2 out of 20\n",
      "Computing the embeddings of test sample 3 out of 20\n",
      "Computing the embeddings of test sample 4 out of 20\n",
      "Computing the embeddings of test sample 5 out of 20\n",
      "Computing the embeddings of test sample 6 out of 20\n",
      "Computing the embeddings of test sample 7 out of 20\n",
      "Computing the embeddings of test sample 8 out of 20\n",
      "Computing the embeddings of test sample 9 out of 20\n",
      "Computing the embeddings of test sample 10 out of 20\n",
      "Computing the embeddings of test sample 11 out of 20\n",
      "Computing the embeddings of test sample 12 out of 20\n",
      "Computing the embeddings of test sample 13 out of 20\n",
      "Computing the embeddings of test sample 14 out of 20\n",
      "Computing the embeddings of test sample 15 out of 20\n",
      "Computing the embeddings of test sample 16 out of 20\n",
      "Computing the embeddings of test sample 17 out of 20\n",
      "Computing the embeddings of test sample 18 out of 20\n",
      "Computing the embeddings of test sample 19 out of 20\n",
      "=======Computing embeddings for center 3 =======\n",
      "5 1 2\n",
      "Computing the embeddings of training sample 0 out of 5\n",
      "Computing the embeddings of training sample 1 out of 5\n",
      "Computing the embeddings of training sample 2 out of 5\n",
      "Computing the embeddings of training sample 3 out of 5\n",
      "Computing the embeddings of training sample 4 out of 5\n",
      "Computing the embeddings of validation sample 0 out of 1\n",
      "Computing the embeddings of test sample 0 out of 2\n",
      "Computing the embeddings of test sample 1 out of 2\n"
     ]
    }
   ],
   "source": [
    "for current_center in range(len(train_ids_centers)):\n",
    "    print(f\"=======Computing embeddings for center {current_center} =======\")\n",
    "    train_volumes_paths, train_labels_paths = [],[]\n",
    "    validation_volumes_paths, validation_labels_paths = [],[]\n",
    "    test_volumes_paths, test_labels_paths = [],[]\n",
    "\n",
    "    train_ids = train_ids_centers[current_center]\n",
    "    val_ids   = val_ids_centers[current_center]\n",
    "    test_ids = test_ids_centers[current_center]\n",
    "\n",
    "    for item in brats_nifti__dir_paths:\n",
    "        if item.split('/')[-2] in set(train_ids):\n",
    "            train_volumes_paths.append(item+\"stacked.nii.gz\")\n",
    "            train_labels_paths.append(item+\"gt.nii.gz\")\n",
    "        if item.split('/')[-2] in set(val_ids):\n",
    "            validation_volumes_paths.append(item+\"stacked.nii.gz\")\n",
    "            validation_labels_paths.append(item+\"gt.nii.gz\")\n",
    "        if item.split('/')[-2] in set(test_ids):\n",
    "            test_volumes_paths.append(item+\"stacked.nii.gz\")\n",
    "            test_labels_paths.append(item+\"gt.nii.gz\")\n",
    "    print(len(train_volumes_paths),len(validation_volumes_paths),len(test_volumes_paths))\n",
    "\n",
    "\n",
    "    train_ds    = ArrayDataset(train_volumes_paths, imtrans, train_labels_paths, segtrans)\n",
    "    validation_ds    = ArrayDataset(validation_volumes_paths, imtrans, validation_labels_paths, segtrans)\n",
    "    test_ds    = ArrayDataset(test_volumes_paths, imtrans, test_labels_paths, segtrans)\n",
    "\n",
    "    train_embeddings, val_embeddings, test_embeddings = [],[],[]\n",
    "    for j in range(len(train_ds)):\n",
    "        print(f\"Computing the embeddings of training sample {j} out of {len(train_ds)}\")\n",
    "        train_embeddings.append(np.array(all_slice_embeddings(train_ds[j][0],embedding_model)))\n",
    "    fname = root_exp + '/data/partitions/embeddings/training_embeddings_center_' + str(current_center)+'.npy'\n",
    "    np.save(fname , np.array(train_embeddings))\n",
    "    \n",
    "    for j in range(len(validation_ds)):\n",
    "        print(f\"Computing the embeddings of validation sample {j} out of {len(validation_ds)}\")\n",
    "        val_embeddings.append(np.array(all_slice_embeddings(validation_ds[j][0],embedding_model)))\n",
    "    fname = root_exp + '/data/partitions/embeddings/validation_embeddings_center_' + str(current_center)+'.npy'    \n",
    "    np.save(fname , np.array(val_embeddings))\n",
    "    \n",
    "    for j in range(len(test_ds)):\n",
    "        print(f\"Computing the embeddings of test sample {j} out of {len(test_ds)}\")\n",
    "        test_embeddings.append(np.array(all_slice_embeddings(test_ds[j][0],embedding_model)))\n",
    "    fname = root_exp + '/data/partitions/embeddings/test_embeddings_center_' + str(current_center)+'.npy'    \n",
    "    np.save(fname , np.array(test_embeddings))\n",
    "    \n",
    "    "
   ]
  },
  {
   "cell_type": "code",
   "execution_count": 60,
   "id": "e97fe2ff",
   "metadata": {},
   "outputs": [
    {
     "name": "stderr",
     "output_type": "stream",
     "text": [
      "/tmp/ipykernel_298285/273549558.py:1: FutureWarning: The input object of type 'Tensor' is an array-like implementing one of the corresponding protocols (`__array__`, `__array_interface__` or `__array_struct__`); but not a sequence (or 0-D). In the future, this object will be coerced as if it was first converted using `np.array(obj)`. To retain the old behaviour, you have to either modify the type 'Tensor', or assign to an empty array created with `np.empty(correct_shape, dtype=object)`.\n",
      "  center_data =  np.array(train_embeddings)\n",
      "/tmp/ipykernel_298285/273549558.py:1: VisibleDeprecationWarning: Creating an ndarray from ragged nested sequences (which is a list-or-tuple of lists-or-tuples-or ndarrays with different lengths or shapes) is deprecated. If you meant to do this, you must specify 'dtype=object' when creating the ndarray.\n",
      "  center_data =  np.array(train_embeddings)\n"
     ]
    },
    {
     "data": {
      "text/plain": [
       "(14,)"
      ]
     },
     "execution_count": 60,
     "metadata": {},
     "output_type": "execute_result"
    }
   ],
   "source": [
    "center_data =  np.array(train_embeddings)\n",
    "center_data.shape"
   ]
  },
  {
   "cell_type": "code",
   "execution_count": 58,
   "id": "334baa59",
   "metadata": {},
   "outputs": [],
   "source": [
    "reducer = umap.UMAP()"
   ]
  },
  {
   "cell_type": "code",
   "execution_count": 72,
   "id": "eec382a2",
   "metadata": {},
   "outputs": [],
   "source": [
    "scaled_sample_data = StandardScaler().fit_transform(train_embeddings[0])"
   ]
  },
  {
   "cell_type": "code",
   "execution_count": 79,
   "id": "355206bb",
   "metadata": {},
   "outputs": [
    {
     "data": {
      "text/plain": [
       "(72, 2)"
      ]
     },
     "execution_count": 79,
     "metadata": {},
     "output_type": "execute_result"
    }
   ],
   "source": [
    "embedding = reducer.fit_transform(scaled_sample_data)\n",
    "embedding.shape\n"
   ]
  },
  {
   "cell_type": "code",
   "execution_count": 80,
   "id": "05904f4c",
   "metadata": {},
   "outputs": [
    {
     "data": {
      "text/plain": [
       "Text(0.5, 1.0, 'UMAP projection of One Volume in center BraTS19_2013_10_1')"
      ]
     },
     "execution_count": 80,
     "metadata": {},
     "output_type": "execute_result"
    },
    {
     "data": {
      "image/png": "[encoded data removed]",
      "text/plain": [
       "<Figure size 1008x720 with 1 Axes>"
      ]
     },
     "metadata": {},
     "output_type": "display_data"
    }
   ],
   "source": [
    "plt.scatter(\n",
    "    embedding[:, 0],\n",
    "    embedding[:, 1])\n",
    "plt.gca().set_aspect('equal', 'datalim')\n",
    "plt.title('UMAP projection of One Volume in center BraTS19_2013_10_1', fontsize=24)\n"
   ]
  }
 ],
 "metadata": {
  "kernelspec": {
   "display_name": "Python 3 (ipykernel)",
   "language": "python",
   "name": "python3"
  },
  "language_info": {
   "codemirror_mode": {
    "name": "ipython",
    "version": 3
   },
   "file_extension": ".py",
   "mimetype": "text/x-python",
   "name": "python",
   "nbconvert_exporter": "python",
   "pygments_lexer": "ipython3",
   "version": "3.9.7"
  }
 },
 "nbformat": 4,
 "nbformat_minor": 5
}
